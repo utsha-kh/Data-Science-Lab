{
 "cells": [
  {
   "cell_type": "markdown",
   "metadata": {},
   "source": [
    "# Day5 - Stacking (failed)\n",
    "\n",
    "I wanted to try stacking with differnt combination of classifiers I tuned on day4, but my RAM is so small that kernel died frequently and I could not proceed. \n",
    "\n",
    "From tomorrow, I will try to investigate features, and try to remove outliers to improve the performance."
   ]
  },
  {
   "cell_type": "code",
   "execution_count": 1,
   "metadata": {},
   "outputs": [],
   "source": [
    "from sklearn import datasets\n",
    "from sklearn.metrics import accuracy_score, f1_score, roc_curve, auc\n",
    "from sklearn.model_selection import train_test_split, KFold\n",
    "from sklearn.svm import LinearSVC, SVC\n",
    "import numpy as np\n",
    "from sklearn.metrics import mean_squared_error, log_loss\n",
    "from sklearn.model_selection import GridSearchCV\n",
    "import pandas as pd\n",
    "from tqdm import tqdm\n",
    "from sklearn.ensemble import RandomForestClassifier\n",
    "from sklearn import metrics\n",
    "import xgboost as xgb\n",
    "from xgboost import XGBClassifier\n",
    "from sklearn.neural_network import MLPClassifier\n",
    "from sklearn.linear_model import LogisticRegression\n",
    "from sklearn.discriminant_analysis import QuadraticDiscriminantAnalysis\n",
    "from sklearn.neighbors import KNeighborsClassifier\n",
    "import matplotlib.pyplot as plt"
   ]
  },
  {
   "cell_type": "code",
   "execution_count": 2,
   "metadata": {},
   "outputs": [],
   "source": [
    "data = pd.read_csv('train_final.csv')\n",
    "X_pred_data = pd.read_csv('test_final.csv')\n",
    "X_pred = np.asarray(X_pred_data.iloc[:, 1:25]).reshape(-1, 24)"
   ]
  },
  {
   "cell_type": "code",
   "execution_count": 3,
   "metadata": {},
   "outputs": [],
   "source": [
    "X = np.asarray(data.iloc[:, 2:26]).reshape(-1, 24)\n",
    "y = np.asarray(data.iloc[:, 1]).reshape(-1, 1)\n",
    "X_train, X_test, y_train, y_test = train_test_split(X, y, test_size=0.05)"
   ]
  },
  {
   "cell_type": "code",
   "execution_count": 4,
   "metadata": {},
   "outputs": [],
   "source": [
    "xgb1 = xgb.XGBClassifier(colsample_bytree=0.65, gamma=0.1,\n",
    "       learning_rate=0.05, max_depth=5,\n",
    "       min_child_weight=5, n_estimators=100, objective='binary:logistic',\n",
    "      reg_alpha=1, reg_lambda=1,\n",
    "      subsample=0.85, verbosity=1, n_jobs=-1)"
   ]
  },
  {
   "cell_type": "code",
   "execution_count": 5,
   "metadata": {},
   "outputs": [],
   "source": [
    "rf = RandomForestClassifier(n_estimators = 100, max_depth = 25, n_jobs=-1)"
   ]
  },
  {
   "cell_type": "code",
   "execution_count": 6,
   "metadata": {},
   "outputs": [],
   "source": [
    "knn =  KNeighborsClassifier(algorithm='auto', leaf_size=30, metric='minkowski', n_jobs=-1, n_neighbors=10, p=1)"
   ]
  },
  {
   "cell_type": "code",
   "execution_count": 7,
   "metadata": {},
   "outputs": [],
   "source": [
    "#---------- This crasher kernel ----------\n",
    "#def stacking(num_iter=10, xgb=XGBClassifier(), rf=RandomForestClassifier, knn=KNeighborsClassifier):\n",
    "#    X_trains = [X_train]\n",
    "#    X_tests = [X_test]\n",
    "#    X_preds = [X_pred]\n",
    "#    for i in range(num_iter):\n",
    "#        print(\"---------- iteration %d ----------\" %(i+1))\n",
    "#        current_model = None\n",
    "#        if(i % 3 == 0): \n",
    "#            current_model = xgb\n",
    "#        if(i % 3 == 1):\n",
    "#            current_model = rf\n",
    "#        if(i % 3 == 2): \n",
    "#            current_model = knn\n",
    "#        current_model.fit(X_trains[i], y_train.ravel())\n",
    "#        X_trains.append(np.hstack((X_trains[i], current_model.predict(X_trains[i]).reshape(-1, 1))))\n",
    "#        X_tests.append(np.hstack((X_tests[i], current_model.predict(X_tests[i]).reshape(-1, 1))))\n",
    "#        X_preds.append(np.hstack((X_preds[i], current_model.predict(X_preds[i]).reshape(-1, 1))))\n",
    "#        print('Accuracy: %f' % metrics.accuracy_score(y_test, current_model.predict(X_tests[i])))\n",
    "#        print('AUC: %f' %metrics.roc_auc_score(y_test, current_model.predict(X_tests[i])))\n",
    "#    return X_trains[num_iter], X_tests[num_iter], X_preds[num_iter]"
   ]
  },
  {
   "cell_type": "code",
   "execution_count": 8,
   "metadata": {},
   "outputs": [],
   "source": [
    "#S_train, S_test, S_pred = stacking(3, xgb, rf, knn)"
   ]
  },
  {
   "cell_type": "code",
   "execution_count": 9,
   "metadata": {},
   "outputs": [],
   "source": [
    "#X_stacked1 = pd.DataFrame(rf.predict_proba(X_pred)[:, 1], columns = [names[0]])\n",
    "#X_stacked1['Id'] = X_pred_data['Id']\n",
    "#X_stacked1 = pd.merge(X_pred_data, X_stacked1, on='Id')\n",
    "#X_stacked1\n",
    "#X_stacked1.to_csv(\"X_stacked1.csv\", index=False)"
   ]
  },
  {
   "cell_type": "code",
   "execution_count": 7,
   "metadata": {},
   "outputs": [
    {
     "data": {
      "text/plain": [
       "RandomForestClassifier(bootstrap=True, class_weight=None, criterion='gini',\n",
       "            max_depth=25, max_features='auto', max_leaf_nodes=None,\n",
       "            min_impurity_decrease=0.0, min_impurity_split=None,\n",
       "            min_samples_leaf=1, min_samples_split=2,\n",
       "            min_weight_fraction_leaf=0.0, n_estimators=100, n_jobs=-1,\n",
       "            oob_score=False, random_state=None, verbose=0,\n",
       "            warm_start=False)"
      ]
     },
     "execution_count": 7,
     "metadata": {},
     "output_type": "execute_result"
    }
   ],
   "source": [
    "rf.fit(X_train, y_train.ravel())"
   ]
  },
  {
   "cell_type": "code",
   "execution_count": 8,
   "metadata": {},
   "outputs": [],
   "source": [
    "X_pred1 = np.hstack((X_pred, rf.predict_proba(X_pred)[:,1].reshape(-1, 1)))\n",
    "X_train1 = np.hstack((X_train, rf.predict_proba(X_train)[:,1].reshape(-1, 1)))\n",
    "X_test1 = np.hstack((X_test, rf.predict_proba(X_test)[:,1].reshape(-1, 1)))"
   ]
  },
  {
   "cell_type": "code",
   "execution_count": 9,
   "metadata": {},
   "outputs": [],
   "source": [
    "X_pred = None\n",
    "X_train = None\n",
    "X_test = None"
   ]
  },
  {
   "cell_type": "code",
   "execution_count": 10,
   "metadata": {},
   "outputs": [
    {
     "data": {
      "text/plain": [
       "KNeighborsClassifier(algorithm='auto', leaf_size=30, metric='minkowski',\n",
       "           metric_params=None, n_jobs=-1, n_neighbors=10, p=1,\n",
       "           weights='uniform')"
      ]
     },
     "execution_count": 10,
     "metadata": {},
     "output_type": "execute_result"
    }
   ],
   "source": [
    "knn.fit(X_train1, y_train.ravel())"
   ]
  },
  {
   "cell_type": "code",
   "execution_count": 11,
   "metadata": {},
   "outputs": [],
   "source": [
    "X_pred2 = np.hstack((X_pred1, knn.predict_proba(X_pred1)[:,1].reshape(-1, 1)))\n",
    "X_train2 = np.hstack((X_train1, knn.predict_proba(X_train1)[:,1].reshape(-1, 1)))\n",
    "X_test2 = np.hstack((X_test1, knn.predict_proba(X_test1)[:,1].reshape(-1, 1)))"
   ]
  },
  {
   "cell_type": "code",
   "execution_count": 12,
   "metadata": {},
   "outputs": [],
   "source": [
    "X_pred1 = None\n",
    "X_train1 = None\n",
    "X_test1 = None"
   ]
  },
  {
   "cell_type": "code",
   "execution_count": null,
   "metadata": {},
   "outputs": [],
   "source": [
    "xgb1.fit(X_train2, y_train.ravel())"
   ]
  },
  {
   "cell_type": "code",
   "execution_count": null,
   "metadata": {},
   "outputs": [],
   "source": [
    "X_pred2.shape"
   ]
  },
  {
   "cell_type": "code",
   "execution_count": null,
   "metadata": {},
   "outputs": [],
   "source": [
    "rf.predict_proba(X_train)[:,1].reshape(-1, 1)"
   ]
  },
  {
   "cell_type": "code",
   "execution_count": null,
   "metadata": {},
   "outputs": [],
   "source": []
  }
 ],
 "metadata": {
  "kernelspec": {
   "display_name": "Python 3",
   "language": "python",
   "name": "python3"
  },
  "language_info": {
   "codemirror_mode": {
    "name": "ipython",
    "version": 3
   },
   "file_extension": ".py",
   "mimetype": "text/x-python",
   "name": "python",
   "nbconvert_exporter": "python",
   "pygments_lexer": "ipython3",
   "version": "3.7.3"
  }
 },
 "nbformat": 4,
 "nbformat_minor": 2
}
